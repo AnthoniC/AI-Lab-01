{
 "cells": [
  {
   "cell_type": "markdown",
   "metadata": {},
   "source": [
    "This code is not fully functional"
   ]
  },
  {
   "cell_type": "code",
   "execution_count": 9,
   "metadata": {},
   "outputs": [],
   "source": [
    "#imports?\n",
    "import numpy as np"
   ]
  },
  {
   "cell_type": "code",
   "execution_count": 10,
   "metadata": {},
   "outputs": [],
   "source": [
    "class Puzzle:\n",
    "    ACTIONS = [\"up\", \"down\", \"left\", \"right\"]\n",
    "    \n",
    "    \n",
    "    def __init__(self, newTiles = None):\n",
    "        self.tiles = newTiles #2d 3x3 array\n",
    "        \n",
    "        \n",
    "    def successor(self, action):\n",
    "        print(\"zzzzz\")\n",
    "        temp = np.array(self.tiles, copy = True)\n",
    "        for i in range(3):\n",
    "            for k in range(3):\n",
    "                if(temp[i][k] == 0):\n",
    "                    r,c = i, k\n",
    "        \n",
    "        try:\n",
    "            print(action)\n",
    "            if(action == \"up\"):\n",
    "                if(r == 0):\n",
    "                    raise InvalidPuzzleStateException(\"InvalidPuzzleStateException\")\n",
    "                temp[r][c] = temp[r-1][c]\n",
    "                temp[r-1][c] = 0\n",
    "            elif(action == \"down\"):\n",
    "                if(r == 2):\n",
    "                    raise InvalidPuzzleStateException(\"InvalidPuzzleStateException\")\n",
    "                temp[r][c] = temp[r+1][c]\n",
    "                temp[r+1][c] = 0\n",
    "            elif(action == \"left\"):\n",
    "                if(c == 0):\n",
    "                    print(\"nooooo\")\n",
    "                    raise InvalidPuzzleStateException(\"InvalidPuzzleStateException\")\n",
    "                    \n",
    "                temp[r][c] = temp[r][c-1]\n",
    "                temp[r][c-1] = 0\n",
    "            elif(action == \"right\"):\n",
    "                if(c == 2):\n",
    "                    raise InvalidPuzzleStateException(\"InvalidPuzzleStateException\")\n",
    "                temp[r][c] = temp[r][c+1]\n",
    "                temp[r][c+1] = 0\n",
    "                \n",
    "        except InvalidPuzzleStateException:\n",
    "            temp = None\n",
    "        \n",
    "        #print(temp)\n",
    "        return temp\n",
    "        \n",
    "        \n",
    "    def __str__(self): # Working\n",
    "        return \"%i %i %i\\n%i %i %i\\n%i %i %i\\n\" %(self.tiles[0][0], self.tiles[0][1], self.tiles[0][2],\n",
    "                                                  self.tiles[1][0], self.tiles[1][1], self.tiles[1][2], \n",
    "                                                  self.tiles[2][0], self.tiles[2][1], self.tiles[2][2])\n",
    "        \n",
    "        \n",
    "    def __eq__(self, other): # Working\n",
    "        istrue = True\n",
    "        for i in range(3):\n",
    "            for k in range(3):\n",
    "                if (self.tiles[i][k] != other.tiles[i][k]):\n",
    "                    istrue = False\n",
    "        return istrue\n",
    "            \n",
    "        \n",
    "        \n",
    " \n"
   ]
  },
  {
   "cell_type": "code",
   "execution_count": 11,
   "metadata": {},
   "outputs": [],
   "source": [
    "class InvalidPuzzleStateException(Exception):\n",
    "    pass"
   ]
  },
  {
   "cell_type": "code",
   "execution_count": 12,
   "metadata": {},
   "outputs": [],
   "source": [
    "from abc import ABC, abstractmethod\n",
    "\n",
    "class Heuristic(object):\n",
    "    \n",
    "    \n",
    "    def __init__(self, goal = None):\n",
    "        self.goal = goal\n",
    "    \n",
    "    @abstractmethod\n",
    "    def guestimate(self, state):\n",
    "        pass"
   ]
  },
  {
   "cell_type": "code",
   "execution_count": 13,
   "metadata": {},
   "outputs": [],
   "source": [
    "class MisplacedHeuristic(Heuristic):\n",
    "    \n",
    "    \n",
    "    def __init__(self, goal = None):\n",
    "        super(MisplacedHeuristic, self).__init__(goal)\n",
    "        \n",
    "    def guestimate(self, state):\n",
    "        num = 0\n",
    "        for i in range(3):\n",
    "            for k in range(3):\n",
    "                if(state[i][k] != i*3 +k + 1):\n",
    "                    num += 1\n",
    "                    \n",
    "        if(state[2][2] == 0):\n",
    "            num -= 1\n",
    "        return num"
   ]
  },
  {
   "cell_type": "code",
   "execution_count": 14,
   "metadata": {},
   "outputs": [],
   "source": [
    "class ManhattenHeuristic(Heuristic):\n",
    "    \n",
    "    \n",
    "    \n",
    "    def __init__(self, goal = None):\n",
    "        super(ManhattenHeuristic,self).__init__(goal)\n",
    "        \n",
    "    def guestimate(self, state):\n",
    "        s = 0\n",
    "        for i in range(3):\n",
    "            for k in range(3):\n",
    "                if(state[i][k] != i*3 +k + 1):\n",
    "                    if(state[i][k] == 0):\n",
    "                        s += 2-i\n",
    "                        s += 2-k\n",
    "                    else:\n",
    "                        r = (state[i][k]-1)//3\n",
    "                        c = (state[i][k]-1)%3\n",
    "                        s += abs(r-i)\n",
    "                        s += abs(c-k)\n",
    "        return s\n",
    "                    "
   ]
  },
  {
   "cell_type": "code",
   "execution_count": 15,
   "metadata": {},
   "outputs": [
    {
     "name": "stdout",
     "output_type": "stream",
     "text": [
      "3\n"
     ]
    }
   ],
   "source": [
    "a = MisplacedHeuristic()\n",
    "print(a.guestimate(np.array([[1,8,6],[4,5,6],[7,1,0]])))"
   ]
  },
  {
   "cell_type": "code",
   "execution_count": 16,
   "metadata": {
    "scrolled": true
   },
   "outputs": [
    {
     "name": "stdout",
     "output_type": "stream",
     "text": [
      "6\n"
     ]
    }
   ],
   "source": [
    "b = ManhattenHeuristic()\n",
    "print(b.guestimate(np.array([[1,8,6],[4,5,6],[7,1,0]])))"
   ]
  },
  {
   "cell_type": "code",
   "execution_count": null,
   "metadata": {},
   "outputs": [],
   "source": []
  }
 ],
 "metadata": {
  "kernelspec": {
   "display_name": "Python 3",
   "language": "python",
   "name": "python3"
  },
  "language_info": {
   "codemirror_mode": {
    "name": "ipython",
    "version": 3
   },
   "file_extension": ".py",
   "mimetype": "text/x-python",
   "name": "python",
   "nbconvert_exporter": "python",
   "pygments_lexer": "ipython3",
   "version": "3.5.2"
  }
 },
 "nbformat": 4,
 "nbformat_minor": 2
}
